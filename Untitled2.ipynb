{
  "nbformat": 4,
  "nbformat_minor": 0,
  "metadata": {
    "colab": {
      "name": "Untitled2.ipynb",
      "provenance": [],
      "authorship_tag": "ABX9TyMZuFO5bCrSX4ZwmS95Z+b3",
      "include_colab_link": true
    },
    "kernelspec": {
      "name": "python3",
      "display_name": "Python 3"
    },
    "language_info": {
      "name": "python"
    }
  },
  "cells": [
    {
      "cell_type": "markdown",
      "metadata": {
        "id": "view-in-github",
        "colab_type": "text"
      },
      "source": [
        "<a href=\"https://colab.research.google.com/github/arunkumarak07/SMS_detection/blob/main/Untitled2.ipynb\" target=\"_parent\"><img src=\"https://colab.research.google.com/assets/colab-badge.svg\" alt=\"Open In Colab\"/></a>"
      ]
    },
    {
      "cell_type": "code",
      "execution_count": null,
      "metadata": {
        "colab": {
          "base_uri": "https://localhost:8080/",
          "height": 296
        },
        "id": "uRAyTB-q5FFk",
        "outputId": "9aec34b7-30e2-4fe0-ca2e-e71daaa01a45"
      },
      "outputs": [
        {
          "output_type": "execute_result",
          "data": {
            "text/plain": [
              "<matplotlib.axes._subplots.AxesSubplot at 0x7f9259b65d90>"
            ]
          },
          "metadata": {},
          "execution_count": 13
        },
        {
          "output_type": "display_data",
          "data": {
            "text/plain": [
              "<Figure size 432x288 with 1 Axes>"
            ],
            "image/png": "[encoded data removed]"
          },
          "metadata": {
            "needs_background": "light"
          }
        }
      ],
      "source": [
        "from pandas._libs.hashtable import value_count\n",
        "import numpy as np\n",
        "import pandas as pd\n",
        "import matplotlib.pyplot as plt\n",
        "import seaborn as sns\n",
        "msg = pd.read_csv('spam.csv',encoding='latin-1')\n",
        "sns.countplot(data=msg,y=msg['v1'])"
      ]
    },
    {
      "cell_type": "code",
      "source": [
        "## Analyse the data\n",
        "\n",
        "#Remove unwanted data from data set\n",
        "msg=msg.drop(['Unnamed: 2','Unnamed: 3','Unnamed: 4'],axis=1)\n",
        "msg.info()"
      ],
      "metadata": {
        "colab": {
          "base_uri": "https://localhost:8080/"
        },
        "id": "xm00_RKBCDeE",
        "outputId": "3f218212-13a7-4870-e378-9fdeeaaebd8a"
      },
      "execution_count": null,
      "outputs": [
        {
          "output_type": "stream",
          "name": "stdout",
          "text": [
            "<class 'pandas.core.frame.DataFrame'>\n",
            "RangeIndex: 5572 entries, 0 to 5571\n",
            "Data columns (total 2 columns):\n",
            " #   Column  Non-Null Count  Dtype \n",
            "---  ------  --------------  ----- \n",
            " 0   v1      5572 non-null   object\n",
            " 1   v2      5572 non-null   object\n",
            "dtypes: object(2)\n",
            "memory usage: 87.2+ KB\n"
          ]
        }
      ]
    },
    {
      "cell_type": "code",
      "source": [
        "# convert the dataset into machine learnable sparse matrix\n",
        "\n",
        "from sklearn.feature_extraction.text import CountVectorizer\n",
        "f = CountVectorizer(stop_words = 'english')\n",
        "X = f.fit_transform(msg[\"v2\"])\n",
        "y = msg['v1']"
      ],
      "metadata": {
        "id": "gTr8MfHkFBAX"
      },
      "execution_count": null,
      "outputs": []
    },
    {
      "cell_type": "code",
      "source": [
        "# Split the data into two parts one is train data another one is test data\n",
        "\n",
        "from sklearn.model_selection import train_test_split\n",
        "X_train, X_test, y_train, y_test =train_test_split(X,y)"
      ],
      "metadata": {
        "id": "Bz_Ms1cnGZsX"
      },
      "execution_count": null,
      "outputs": []
    },
    {
      "cell_type": "code",
      "source": [
        "# Choose the algorithm\n",
        "\n",
        "from sklearn.naive_bayes import MultinomialNB\n",
        "clf = MultinomialNB()\n",
        "clf.fit(X_train, y_train)\n",
        "mna = round(clf.score(X_test, y_test)*100,2)\n",
        "print('accuracy score = ',mna,'%')"
      ],
      "metadata": {
        "colab": {
          "base_uri": "https://localhost:8080/"
        },
        "id": "nRqZuVg1Gr1C",
        "outputId": "908b109d-dba1-48b2-f416-a861c385adb0"
      },
      "execution_count": null,
      "outputs": [
        {
          "output_type": "stream",
          "name": "stdout",
          "text": [
            "accuracy score =  97.56 %\n"
          ]
        }
      ]
    },
    {
      "cell_type": "code",
      "source": [
        "text = np.array([(input(\"Copy and past your massage to find spam or ham : \"))])\n",
        "text=f.transform(text)\n",
        "clf.predict(text)"
      ],
      "metadata": {
        "colab": {
          "base_uri": "https://localhost:8080/"
        },
        "id": "smrONk-mHiCZ",
        "outputId": "10b3ef9a-104a-4ab5-dcd4-021e3b647f6c"
      },
      "execution_count": null,
      "outputs": [
        {
          "name": "stdout",
          "output_type": "stream",
          "text": [
            "Copy and past your massage to find spam or ham : As per your request 'Melle Melle (Oru Minnaminunginte Nurungu Vettam)' has been set as your callertune for all Callers. Press *9 to copy your friends Callertune\n"
          ]
        },
        {
          "output_type": "execute_result",
          "data": {
            "text/plain": [
              "array(['ham'], dtype='<U4')"
            ]
          },
          "metadata": {},
          "execution_count": 36
        }
      ]
    }
  ]
}